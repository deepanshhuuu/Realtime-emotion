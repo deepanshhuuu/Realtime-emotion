{
 "cells": [
  {
   "cell_type": "code",
   "execution_count": null,
   "id": "335b99c9",
   "metadata": {},
   "outputs": [
    {
     "name": "stdout",
     "output_type": "stream",
     "text": [
      "Found 28709 images belonging to 7 classes.\n",
      "Found 7178 images belonging to 7 classes.\n"
     ]
    },
    {
     "name": "stderr",
     "output_type": "stream",
     "text": [
      "C:\\Users\\deepa\\anaconda3\\lib\\site-packages\\keras\\optimizers\\optimizer_v2\\adam.py:114: UserWarning: The `lr` argument is deprecated, use `learning_rate` instead.\n",
      "  super().__init__(name, **kwargs)\n",
      "C:\\Users\\deepa\\AppData\\Local\\Temp\\ipykernel_9972\\2545805594.py:55: UserWarning: `Model.fit_generator` is deprecated and will be removed in a future version. Please use `Model.fit`, which supports generators.\n",
      "  emotion_model_info = emotion_model.fit_generator(\n"
     ]
    },
    {
     "name": "stdout",
     "output_type": "stream",
     "text": [
      "Epoch 1/8\n",
      "448/448 [==============================] - 434s 942ms/step - loss: 1.8100 - accuracy: 0.2522 - val_loss: 1.7406 - val_accuracy: 0.2870\n",
      "Epoch 2/8\n",
      "448/448 [==============================] - 410s 915ms/step - loss: 1.6508 - accuracy: 0.3491 - val_loss: 1.5607 - val_accuracy: 0.4042\n",
      "Epoch 3/8\n",
      "448/448 [==============================] - 26s 57ms/step - loss: 1.5472 - accuracy: 0.4071 - val_loss: 1.4765 - val_accuracy: 0.4424\n",
      "Epoch 4/8\n",
      "448/448 [==============================] - 20s 45ms/step - loss: 1.4742 - accuracy: 0.4331 - val_loss: 1.4166 - val_accuracy: 0.4562\n",
      "Epoch 5/8\n",
      "448/448 [==============================] - 21s 47ms/step - loss: 1.4186 - accuracy: 0.4578 - val_loss: 1.3729 - val_accuracy: 0.4849\n",
      "Epoch 6/8\n",
      "448/448 [==============================] - 22s 48ms/step - loss: 1.3651 - accuracy: 0.4795 - val_loss: 1.3321 - val_accuracy: 0.4954\n",
      "Epoch 7/8\n",
      "240/448 [===============>..............] - ETA: 8s - loss: 1.3234 - accuracy: 0.4971"
     ]
    }
   ],
   "source": [
    "# import required packages\n",
    "import cv2\n",
    "from keras.models import Sequential\n",
    "from keras.layers import Conv2D, MaxPooling2D, Dense, Dropout, Flatten\n",
    "from keras.optimizers import Adam\n",
    "from keras.preprocessing.image import ImageDataGenerator\n",
    "\n",
    "# Initialize image data generator with rescaling\n",
    "train_data_gen = ImageDataGenerator(rescale=1./255)\n",
    "validation_data_gen = ImageDataGenerator(rescale=1./255)\n",
    "\n",
    "# Preprocess all train images\n",
    "train_generator = train_data_gen.flow_from_directory(\n",
    "        'data/train',   # Directory that contains all the trained images \n",
    "        target_size=(48, 48),\n",
    "        batch_size=64,\n",
    "        color_mode=\"grayscale\",\n",
    "        class_mode='categorical')\n",
    "\n",
    "# Preprocess all test images\n",
    "validation_generator = validation_data_gen.flow_from_directory(\n",
    "        'data/test',  #Directory that contains all the test images\n",
    "        target_size=(48, 48),\n",
    "        batch_size=64,\n",
    "        color_mode=\"grayscale\",\n",
    "        class_mode='categorical')\n",
    "\n",
    "# create model structure\n",
    "emotion_model = Sequential()\n",
    " \n",
    "# First CNN Layer\n",
    "emotion_model.add(Conv2D(32, kernel_size=(3, 3), activation='relu', input_shape=(48, 48, 1)))\n",
    "emotion_model.add(Conv2D(64, kernel_size=(3, 3), activation='relu'))\n",
    "emotion_model.add(MaxPooling2D(pool_size=(2, 2))) # Picks up the maximum value from the pool and forms output\n",
    "emotion_model.add(Dropout(0.25)) # To avoid overfitting\n",
    "\n",
    "# Second CNN Layer\n",
    "emotion_model.add(Conv2D(128, kernel_size=(3, 3), activation='relu')) \n",
    "emotion_model.add(MaxPooling2D(pool_size=(2, 2)))\n",
    "emotion_model.add(Conv2D(128, kernel_size=(3, 3), activation='relu'))\n",
    "emotion_model.add(MaxPooling2D(pool_size=(2, 2)))\n",
    "emotion_model.add(Dropout(0.25)) # To avoid overfitting\n",
    "\n",
    "\n",
    "emotion_model.add(Flatten())\n",
    "emotion_model.add(Dense(1024, activation='relu')) # Fully connected neural layer\n",
    "emotion_model.add(Dropout(0.5))\n",
    "emotion_model.add(Dense(7, activation='softmax'))\n",
    "\n",
    "cv2.ocl.setUseOpenCL(False)\n",
    "\n",
    "emotion_model.compile(loss='categorical_crossentropy', optimizer=Adam(lr=0.0001, decay=1e-6), metrics=['accuracy']) # Compiling the model\n",
    "\n",
    "# Train the neural network/model\n",
    "emotion_model_info = emotion_model.fit_generator(\n",
    "        train_generator,\n",
    "        steps_per_epoch=28709 // 64,\n",
    "        epochs=8,\n",
    "        validation_data=validation_generator,\n",
    "        validation_steps=7178 // 64)\n",
    "\n",
    "# save model structure in jason file\n",
    "model_json = emotion_model.to_json()\n",
    "with open('model/emotion_model.json', \"w\") as json_file:\n",
    "    json_file.write(model_json)\n",
    "\n",
    "# save trained model weight in .h5 file\n",
    "emotion_model.save_weights('model/emotion_model.h5')"
   ]
  },
  {
   "cell_type": "code",
   "execution_count": null,
   "id": "6276a3bf",
   "metadata": {},
   "outputs": [],
   "source": []
  }
 ],
 "metadata": {
  "kernelspec": {
   "display_name": "Python 3 (ipykernel)",
   "language": "python",
   "name": "python3"
  },
  "language_info": {
   "codemirror_mode": {
    "name": "ipython",
    "version": 3
   },
   "file_extension": ".py",
   "mimetype": "text/x-python",
   "name": "python",
   "nbconvert_exporter": "python",
   "pygments_lexer": "ipython3",
   "version": "3.9.13"
  }
 },
 "nbformat": 4,
 "nbformat_minor": 5
}
